{
 "cells": [
  {
   "cell_type": "markdown",
   "metadata": {},
   "source": [
    "# Tomotoshi Nishino: DMRG preprints\n",
    "\n",
    "http://quattro.phys.sci.kobe-u.ac.jp/dmrg.html\n",
    "\n",
    "Get all the arXiv ids and ratings from the extensive classification done by Tomotoshi Nishino."
   ]
  },
  {
   "cell_type": "code",
   "execution_count": 1,
   "metadata": {},
   "outputs": [
    {
     "name": "stderr",
     "output_type": "stream",
     "text": [
      "Warning message:\n",
      "“package ‘stringr’ was built under R version 3.4.4”"
     ]
    }
   ],
   "source": [
    "library(stringr)"
   ]
  },
  {
   "cell_type": "code",
   "execution_count": 2,
   "metadata": {},
   "outputs": [],
   "source": [
    "# All years from 1998 to 2018\n",
    "aa = as.character(c(0:9))\n",
    "aa = paste('0',aa, sep=\"\")\n",
    "years = c(as.character(c(98:99)), aa, as.character(c(10:18)), \"\")"
   ]
  },
  {
   "cell_type": "code",
   "execution_count": 12,
   "metadata": {},
   "outputs": [],
   "source": [
    "preprints = data.frame(arXiv_id=character(), NishinoRating=character()) \n",
    "\n",
    "for (yy in 1:length(years)) {\n",
    "    # Get the corresponding URL from Nishino's webpage\n",
    "    url = paste(\"http://quattro.phys.sci.kobe-u.ac.jp/dmrg/condmat\", years[yy], \".html\", \n",
    "        sep = \"\")\n",
    "    # print(url)\n",
    "    web_page = readLines(url)\n",
    "    \n",
    "    tot_preprints = length(grep(\"/abs/\", web_page))\n",
    "    \n",
    "    clean_ids = rep(\"\", tot_preprints)\n",
    "    colors_ids = rep(\"#330099\", tot_preprints)\n",
    "    last_id = grep(\"/abs/\", web_page)[1]\n",
    "    \n",
    "    count = 1\n",
    "    for (i in 1:length(web_page)) {\n",
    "        if (str_detect(web_page[i], \"/abs/\")) {\n",
    "            clean_ids[count] = str_extract(web_page[i], \"\\\\d+\\\\.\\\\d+|\\\\w+\\\\-\\\\w+/\\\\d+\");\n",
    "            count = count + 1\n",
    "            last_id = i\n",
    "        }\n",
    "        if (str_detect(web_page[i], \"FONT.COLOR\") & i == last_id + 1) {\n",
    "            colors_ids[count - 1] = tolower(str_extract(web_page[i], \"#?\\\\w{2}\\\\d{4}\"));\n",
    "            last_id = 0\n",
    "        }\n",
    "        \n",
    "    }\n",
    "    \n",
    "    for (i in 1:length(colors_ids)) {\n",
    "        colors_ids[i] = str_sub(colors_ids[i], -6, -1)\n",
    "    }\n",
    "    \n",
    "    # Convert from color coded ids to rating\n",
    "    # 0: Regular preprint\n",
    "    colors_ids[colors_ids == \"330099\"] = \"0\"\n",
    "    # 1: \"major technical or conceptual advances, cool applications and good reviews\"\n",
    "    colors_ids[colors_ids == \"ff0000\"] = \"1\"\n",
    "    # -1: \"related field\"\n",
    "    colors_ids[colors_ids == \"006600\"] = \"-1\"\n",
    "    \n",
    "    \n",
    "    \n",
    "    new_rows = cbind(clean_ids, colors_ids)\n",
    "    \n",
    "    preprints = rbind(preprints, new_rows)\n",
    "}"
   ]
  },
  {
   "cell_type": "code",
   "execution_count": 13,
   "metadata": {},
   "outputs": [
    {
     "data": {
      "text/html": [
       "<ol class=list-inline>\n",
       "\t<li>6024</li>\n",
       "\t<li>2</li>\n",
       "</ol>\n"
      ],
      "text/latex": [
       "\\begin{enumerate*}\n",
       "\\item 6024\n",
       "\\item 2\n",
       "\\end{enumerate*}\n"
      ],
      "text/markdown": [
       "1. 6024\n",
       "2. 2\n",
       "\n",
       "\n"
      ],
      "text/plain": [
       "[1] 6024    2"
      ]
     },
     "metadata": {},
     "output_type": "display_data"
    },
    {
     "data": {
      "text/plain": [
       "             arXiv_id    Nishino_Rating\n",
       " 0707.1454       :   4   -1:1821       \n",
       " quant-ph/0610099:   3   0 :3945       \n",
       " cond-mat/0011348:   2   1 : 258       \n",
       " cond-mat/0104533:   2                 \n",
       " cond-mat/0301067:   2                 \n",
       " cond-mat/0303557:   2                 \n",
       " (Other)         :6009                 "
      ]
     },
     "metadata": {},
     "output_type": "display_data"
    }
   ],
   "source": [
    "names(preprints) = c(\"arXiv_id\", \"Nishino_Rating\")\n",
    "preprints$Nishino_Rating = as.factor(preprints$Nishino_Rating)\n",
    "dim(preprints)\n",
    "summary(preprints)"
   ]
  },
  {
   "cell_type": "code",
   "execution_count": 14,
   "metadata": {},
   "outputs": [],
   "source": [
    "# Remove duplicated arXiv ids\n",
    "preprints = preprints[!duplicated(preprints$arXiv_id),]"
   ]
  },
  {
   "cell_type": "code",
   "execution_count": 15,
   "metadata": {},
   "outputs": [
    {
     "data": {
      "text/html": [
       "<dl class=dl-horizontal>\n",
       "\t<dt>-1</dt>\n",
       "\t\t<dd>1786</dd>\n",
       "\t<dt>0</dt>\n",
       "\t\t<dd>3894</dd>\n",
       "\t<dt>1</dt>\n",
       "\t\t<dd>252</dd>\n",
       "</dl>\n"
      ],
      "text/latex": [
       "\\begin{description*}\n",
       "\\item[-1] 1786\n",
       "\\item[0] 3894\n",
       "\\item[1] 252\n",
       "\\end{description*}\n"
      ],
      "text/markdown": [
       "-1\n",
       ":   17860\n",
       ":   38941\n",
       ":   252\n",
       "\n"
      ],
      "text/plain": [
       "  -1    0    1 \n",
       "1786 3894  252 "
      ]
     },
     "metadata": {},
     "output_type": "display_data"
    }
   ],
   "source": [
    "summary(preprints$Nishino_Rating)"
   ]
  },
  {
   "cell_type": "code",
   "execution_count": 16,
   "metadata": {},
   "outputs": [],
   "source": [
    "write.csv(preprints, file=\"NishinoPreprints.csv\", row.names = FALSE)"
   ]
  },
  {
   "cell_type": "code",
   "execution_count": null,
   "metadata": {},
   "outputs": [],
   "source": []
  }
 ],
 "metadata": {
  "kernelspec": {
   "display_name": "R",
   "language": "R",
   "name": "ir"
  },
  "language_info": {
   "codemirror_mode": "r",
   "file_extension": ".r",
   "mimetype": "text/x-r-source",
   "name": "R",
   "pygments_lexer": "r",
   "version": "3.4.3"
  }
 },
 "nbformat": 4,
 "nbformat_minor": 2
}
